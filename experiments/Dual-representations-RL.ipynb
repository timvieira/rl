{
 "cells": [
  {
   "cell_type": "markdown",
   "metadata": {},
   "source": [
    "## Notes on [Wang08](https://webdocs.cs.ualberta.ca/~dale/papers/dualdp.pdf)"
   ]
  },
  {
   "cell_type": "markdown",
   "metadata": {},
   "source": [
    "[Peter Dayan (1993)](http://www.gatsby.ucl.ac.uk/~dayan/papers/d93b.pdf)'s successor representation"
   ]
  },
  {
   "cell_type": "code",
   "execution_count": 1,
   "metadata": {},
   "outputs": [],
   "source": [
    "import numpy as np, matplotlib.pyplot as pl\n",
    "from rl.mdp import random_MDP, random_dist\n",
    "from arsenal import iterview\n",
    "\n",
    "mdp = random_MDP(S=10, A=3, b=2, r=1, γ=0.85)\n",
    "\n",
    "π = policy = random_dist(mdp.S, mdp.A)\n",
    "\n",
    "S = range(mdp.S); A = range(mdp.A)          # set of states and set of actions\n",
    "γ = mdp.γ\n",
    "V = mdp.V(π)\n",
    "Q = mdp.Q(π)\n",
    "Adv = mdp.Advantage(π)\n",
    "R = mdp.r\n",
    "P = mdp.P\n",
    "\n",
    "Π = mdp.Π(π)\n",
    "M = mdp.successor_representation(π, normalize=True)   "
   ]
  },
  {
   "cell_type": "markdown",
   "metadata": {},
   "source": [
    "The ordinary successor features:\n",
    "$$\n",
    "\\newcommand{\\tup}[1]{\\langle #1 \\rangle}\n",
    "\\Phi(i,k) = (1-\\gamma)\\, 1(i=k) + \\gamma \\, \\sum_a \\sum_j \\Phi(j, k) \\, P(j \\mid i, a)\\, \\pi(a \\mid i)\n",
    "$$\n",
    "\n",
    "The state$-$action extension:\n",
    "$$\n",
    "W(\\tup{k,c} \\mid \\tup{i,a}) = (1-\\gamma) \\, 1(\\tup{i,a}=\\tup{k,c}) + \\gamma \\, \\sum_{\\tup{j,b}} W(\\tup{k,c} \\mid \\tup{j,b}) \\, P(\\tup{j,b} \\mid \\tup{i,a})\n",
    "$$\n",
    "\n",
    "$$\n",
    "P(\\tup{j,b} \\mid \\tup{i,a}) = \\pi(b \\mid j) \\, p(j \\mid i, a) \n",
    "$$"
   ]
  },
  {
   "cell_type": "code",
   "execution_count": 2,
   "metadata": {},
   "outputs": [],
   "source": [
    "\n",
    "# H = (1 - γ)*np.eye(M.S*M.A) + γ * np.reshape(M.S*M.A, M.s) @ P @ M.Π(π) @ H\n",
    "# (np.eye(M.S*M.A) - γ * np.reshape(M.S*M.A, M.s) @ P @ M.Π(π)) @ H = (1 - γ)*np.eye(M.S*M.A) \n",
    "\n",
    "# Wang08's H matrix, which I'll call W, is a Markov chain over (s,a) -> (s'', a'')\n",
    "W = mdp.sasa_matrix(π, normalize=True)\n",
    "\n",
    "# Lemma 10 W ≥ 0 and W @ 1 = 1\n",
    "assert np.all(W >= 0)\n",
    "assert np.allclose(1.0, np.einsum('iakc->ia', W))\n",
    "\n",
    "for i in S:\n",
    "    for a in A:\n",
    "        assert np.allclose(Q[i,a]*(1-γ), sum(W[i,a,k,b] * R[k,b] for k in S for b in A))\n",
    "assert np.allclose(Q*(1-γ), np.einsum('iakb,kb->ia',W,R))\n",
    "\n",
    "# Check that W solves our equations\n",
    "for k in S:\n",
    "    for c in A:\n",
    "        for i in S:\n",
    "            for a in A:\n",
    "                np.allclose(\n",
    "                    W[i,a,k,c],\n",
    "                    (1-γ)*((i,a)==(k,c)) + γ*sum(W[j,b,k,c] * π[j,b] * P[i,a,j] for j in S for b in A)\n",
    "                )                "
   ]
  },
  {
   "cell_type": "code",
   "execution_count": null,
   "metadata": {},
   "outputs": [],
   "source": []
  },
  {
   "cell_type": "code",
   "execution_count": 3,
   "metadata": {},
   "outputs": [],
   "source": [
    "# Lemma 13\n",
    "assert np.allclose(V, Π @ Q.flat)"
   ]
  },
  {
   "cell_type": "code",
   "execution_count": 4,
   "metadata": {},
   "outputs": [],
   "source": [
    "# Lemma 14\n",
    "assert np.allclose(M @ Π, Π @ W.reshape(mdp.S*mdp.A, mdp.S*mdp.A))"
   ]
  },
  {
   "cell_type": "code",
   "execution_count": null,
   "metadata": {},
   "outputs": [],
   "source": []
  }
 ],
 "metadata": {
  "kernelspec": {
   "display_name": "Python 3",
   "language": "python",
   "name": "python3"
  },
  "language_info": {
   "codemirror_mode": {
    "name": "ipython",
    "version": 3
   },
   "file_extension": ".py",
   "mimetype": "text/x-python",
   "name": "python",
   "nbconvert_exporter": "python",
   "pygments_lexer": "ipython3",
   "version": "3.8.5"
  }
 },
 "nbformat": 4,
 "nbformat_minor": 4
}
